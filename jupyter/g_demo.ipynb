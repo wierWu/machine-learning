{
 "cells": [
  {
   "cell_type": "code",
   "execution_count": 1,
   "metadata": {},
   "outputs": [
    {
     "name": "stdout",
     "output_type": "stream",
     "text": [
      "Defaulting to user installation because normal site-packages is not writeable\n",
      "Requirement already satisfied: gradio in /Users/eleme/Library/Python/3.8/lib/python/site-packages (3.28.3)\n",
      "Requirement already satisfied: aiofiles in /Users/eleme/Library/Python/3.8/lib/python/site-packages (from gradio) (22.1.0)\n",
      "Requirement already satisfied: aiohttp in /Users/eleme/Library/Python/3.8/lib/python/site-packages (from gradio) (3.8.4)\n",
      "Requirement already satisfied: altair>=4.2.0 in /Users/eleme/Library/Python/3.8/lib/python/site-packages (from gradio) (4.2.2)\n",
      "Requirement already satisfied: fastapi in /Users/eleme/Library/Python/3.8/lib/python/site-packages (from gradio) (0.95.1)\n",
      "Requirement already satisfied: ffmpy in /Users/eleme/Library/Python/3.8/lib/python/site-packages (from gradio) (0.3.0)\n",
      "Requirement already satisfied: gradio-client>=0.1.3 in /Users/eleme/Library/Python/3.8/lib/python/site-packages (from gradio) (0.2.0)\n",
      "Requirement already satisfied: httpx in /Users/eleme/Library/Python/3.8/lib/python/site-packages (from gradio) (0.24.0)\n",
      "Requirement already satisfied: huggingface-hub>=0.13.0 in /Users/eleme/Library/Python/3.8/lib/python/site-packages (from gradio) (0.14.1)\n",
      "Requirement already satisfied: jinja2 in /Users/eleme/Library/Python/3.8/lib/python/site-packages (from gradio) (3.1.2)\n",
      "Requirement already satisfied: markdown-it-py[linkify]>=2.0.0 in /Users/eleme/Library/Python/3.8/lib/python/site-packages (from gradio) (2.2.0)\n",
      "Requirement already satisfied: markupsafe in /Users/eleme/Library/Python/3.8/lib/python/site-packages (from gradio) (2.1.2)\n",
      "Requirement already satisfied: matplotlib in /Users/eleme/Library/Python/3.8/lib/python/site-packages (from gradio) (3.7.1)\n",
      "Requirement already satisfied: mdit-py-plugins<=0.3.3 in /Users/eleme/Library/Python/3.8/lib/python/site-packages (from gradio) (0.3.3)\n",
      "Requirement already satisfied: numpy in /Users/eleme/Library/Python/3.8/lib/python/site-packages (from gradio) (1.24.3)\n",
      "Requirement already satisfied: orjson in /Users/eleme/Library/Python/3.8/lib/python/site-packages (from gradio) (3.8.11)\n",
      "Requirement already satisfied: pandas in /Users/eleme/Library/Python/3.8/lib/python/site-packages (from gradio) (2.0.1)\n",
      "Requirement already satisfied: pillow in /Users/eleme/Library/Python/3.8/lib/python/site-packages (from gradio) (9.5.0)\n",
      "Requirement already satisfied: pydantic in /Users/eleme/Library/Python/3.8/lib/python/site-packages (from gradio) (1.10.7)\n",
      "Requirement already satisfied: pydub in /Users/eleme/Library/Python/3.8/lib/python/site-packages (from gradio) (0.25.1)\n",
      "Requirement already satisfied: pygments>=2.12.0 in /Users/eleme/Library/Python/3.8/lib/python/site-packages (from gradio) (2.14.0)\n",
      "Requirement already satisfied: python-multipart in /Users/eleme/Library/Python/3.8/lib/python/site-packages (from gradio) (0.0.6)\n",
      "Requirement already satisfied: pyyaml in /Users/eleme/Library/Python/3.8/lib/python/site-packages (from gradio) (6.0)\n",
      "Requirement already satisfied: requests in /Users/eleme/Library/Python/3.8/lib/python/site-packages (from gradio) (2.28.2)\n",
      "Requirement already satisfied: semantic-version in /Users/eleme/Library/Python/3.8/lib/python/site-packages (from gradio) (2.10.0)\n",
      "Requirement already satisfied: typing-extensions in /Users/eleme/Library/Python/3.8/lib/python/site-packages (from gradio) (4.5.0)\n",
      "Requirement already satisfied: uvicorn in /Users/eleme/Library/Python/3.8/lib/python/site-packages (from gradio) (0.22.0)\n",
      "Requirement already satisfied: websockets>=10.0 in /Users/eleme/Library/Python/3.8/lib/python/site-packages (from gradio) (10.4)\n",
      "Requirement already satisfied: entrypoints in /Users/eleme/Library/Python/3.8/lib/python/site-packages (from altair>=4.2.0->gradio) (0.4)\n",
      "Requirement already satisfied: jsonschema>=3.0 in /Users/eleme/Library/Python/3.8/lib/python/site-packages (from altair>=4.2.0->gradio) (4.17.3)\n",
      "Requirement already satisfied: toolz in /Users/eleme/Library/Python/3.8/lib/python/site-packages (from altair>=4.2.0->gradio) (0.12.0)\n",
      "Requirement already satisfied: fsspec in /Users/eleme/Library/Python/3.8/lib/python/site-packages (from gradio-client>=0.1.3->gradio) (2023.4.0)\n",
      "Requirement already satisfied: packaging in /Users/eleme/Library/Python/3.8/lib/python/site-packages (from gradio-client>=0.1.3->gradio) (23.0)\n",
      "Requirement already satisfied: filelock in /Users/eleme/Library/Python/3.8/lib/python/site-packages (from huggingface-hub>=0.13.0->gradio) (3.12.0)\n",
      "Requirement already satisfied: tqdm>=4.42.1 in /Users/eleme/Library/Python/3.8/lib/python/site-packages (from huggingface-hub>=0.13.0->gradio) (4.65.0)\n",
      "Requirement already satisfied: mdurl~=0.1 in /Users/eleme/Library/Python/3.8/lib/python/site-packages (from markdown-it-py[linkify]>=2.0.0->gradio) (0.1.2)\n",
      "Requirement already satisfied: linkify-it-py<3,>=1 in /Users/eleme/Library/Python/3.8/lib/python/site-packages (from markdown-it-py[linkify]>=2.0.0->gradio) (2.0.2)\n",
      "Requirement already satisfied: python-dateutil>=2.8.2 in /Users/eleme/Library/Python/3.8/lib/python/site-packages (from pandas->gradio) (2.8.2)\n",
      "Requirement already satisfied: pytz>=2020.1 in /Users/eleme/Library/Python/3.8/lib/python/site-packages (from pandas->gradio) (2022.7.1)\n",
      "Requirement already satisfied: tzdata>=2022.1 in /Users/eleme/Library/Python/3.8/lib/python/site-packages (from pandas->gradio) (2023.3)\n",
      "Requirement already satisfied: attrs>=17.3.0 in /Users/eleme/Library/Python/3.8/lib/python/site-packages (from aiohttp->gradio) (22.2.0)\n",
      "Requirement already satisfied: charset-normalizer<4.0,>=2.0 in /Users/eleme/Library/Python/3.8/lib/python/site-packages (from aiohttp->gradio) (3.0.1)\n",
      "Requirement already satisfied: multidict<7.0,>=4.5 in /Users/eleme/Library/Python/3.8/lib/python/site-packages (from aiohttp->gradio) (6.0.4)\n",
      "Requirement already satisfied: async-timeout<5.0,>=4.0.0a3 in /Users/eleme/Library/Python/3.8/lib/python/site-packages (from aiohttp->gradio) (4.0.2)\n",
      "Requirement already satisfied: yarl<2.0,>=1.0 in /Users/eleme/Library/Python/3.8/lib/python/site-packages (from aiohttp->gradio) (1.9.2)\n",
      "Requirement already satisfied: frozenlist>=1.1.1 in /Users/eleme/Library/Python/3.8/lib/python/site-packages (from aiohttp->gradio) (1.3.3)\n",
      "Requirement already satisfied: aiosignal>=1.1.2 in /Users/eleme/Library/Python/3.8/lib/python/site-packages (from aiohttp->gradio) (1.3.1)\n",
      "Requirement already satisfied: starlette<0.27.0,>=0.26.1 in /Users/eleme/Library/Python/3.8/lib/python/site-packages (from fastapi->gradio) (0.26.1)\n",
      "Requirement already satisfied: certifi in /Users/eleme/Library/Python/3.8/lib/python/site-packages (from httpx->gradio) (2022.12.7)\n",
      "Requirement already satisfied: httpcore<0.18.0,>=0.15.0 in /Users/eleme/Library/Python/3.8/lib/python/site-packages (from httpx->gradio) (0.17.0)\n",
      "Requirement already satisfied: idna in /Users/eleme/Library/Python/3.8/lib/python/site-packages (from httpx->gradio) (3.4)\n",
      "Requirement already satisfied: sniffio in /Users/eleme/Library/Python/3.8/lib/python/site-packages (from httpx->gradio) (1.3.0)\n",
      "Requirement already satisfied: contourpy>=1.0.1 in /Users/eleme/Library/Python/3.8/lib/python/site-packages (from matplotlib->gradio) (1.0.7)\n",
      "Requirement already satisfied: cycler>=0.10 in /Users/eleme/Library/Python/3.8/lib/python/site-packages (from matplotlib->gradio) (0.11.0)\n",
      "Requirement already satisfied: fonttools>=4.22.0 in /Users/eleme/Library/Python/3.8/lib/python/site-packages (from matplotlib->gradio) (4.39.3)\n",
      "Requirement already satisfied: kiwisolver>=1.0.1 in /Users/eleme/Library/Python/3.8/lib/python/site-packages (from matplotlib->gradio) (1.4.4)\n",
      "Requirement already satisfied: pyparsing>=2.3.1 in /Users/eleme/Library/Python/3.8/lib/python/site-packages (from matplotlib->gradio) (3.0.9)\n",
      "Requirement already satisfied: importlib-resources>=3.2.0 in /Users/eleme/Library/Python/3.8/lib/python/site-packages (from matplotlib->gradio) (5.12.0)\n",
      "Requirement already satisfied: urllib3<1.27,>=1.21.1 in /Users/eleme/Library/Python/3.8/lib/python/site-packages (from requests->gradio) (1.26.14)\n",
      "Requirement already satisfied: click>=7.0 in /Users/eleme/Library/Python/3.8/lib/python/site-packages (from uvicorn->gradio) (8.1.3)\n",
      "Requirement already satisfied: h11>=0.8 in /Users/eleme/Library/Python/3.8/lib/python/site-packages (from uvicorn->gradio) (0.14.0)\n",
      "Requirement already satisfied: anyio<5.0,>=3.0 in /Users/eleme/Library/Python/3.8/lib/python/site-packages (from httpcore<0.18.0,>=0.15.0->httpx->gradio) (3.6.2)\n",
      "Requirement already satisfied: zipp>=3.1.0 in /Users/eleme/Library/Python/3.8/lib/python/site-packages (from importlib-resources>=3.2.0->matplotlib->gradio) (3.15.0)\n",
      "Requirement already satisfied: pkgutil-resolve-name>=1.3.10 in /Users/eleme/Library/Python/3.8/lib/python/site-packages (from jsonschema>=3.0->altair>=4.2.0->gradio) (1.3.10)\n",
      "Requirement already satisfied: pyrsistent!=0.17.0,!=0.17.1,!=0.17.2,>=0.14.0 in /Users/eleme/Library/Python/3.8/lib/python/site-packages (from jsonschema>=3.0->altair>=4.2.0->gradio) (0.19.3)\n",
      "Requirement already satisfied: uc-micro-py in /Users/eleme/Library/Python/3.8/lib/python/site-packages (from linkify-it-py<3,>=1->markdown-it-py[linkify]>=2.0.0->gradio) (1.0.2)\n",
      "Requirement already satisfied: six>=1.5 in /Library/Developer/CommandLineTools/Library/Frameworks/Python3.framework/Versions/3.8/lib/python3.8/site-packages (from python-dateutil>=2.8.2->pandas->gradio) (1.15.0)\n",
      "Note: you may need to restart the kernel to use updated packages.\n"
     ]
    }
   ],
   "source": [
    "pip install gradio"
   ]
  },
  {
   "cell_type": "code",
   "execution_count": 4,
   "metadata": {},
   "outputs": [
    {
     "name": "stdout",
     "output_type": "stream",
     "text": [
      "Running on local URL:  http://127.0.0.1:7862\n",
      "Running on public URL: https://c3e1055242bbd0c785.gradio.live\n",
      "\n",
      "This share link expires in 72 hours. For free permanent hosting and GPU upgrades (NEW!), check out Spaces: https://huggingface.co/spaces\n"
     ]
    },
    {
     "data": {
      "text/html": [
       "<div><iframe src=\"https://c3e1055242bbd0c785.gradio.live\" width=\"100%\" height=\"500\" allow=\"autoplay; camera; microphone; clipboard-read; clipboard-write;\" frameborder=\"0\" allowfullscreen></iframe></div>"
      ],
      "text/plain": [
       "<IPython.core.display.HTML object>"
      ]
     },
     "metadata": {},
     "output_type": "display_data"
    },
    {
     "data": {
      "text/plain": []
     },
     "execution_count": 4,
     "metadata": {},
     "output_type": "execute_result"
    }
   ],
   "source": [
    "import gradio as gr\n",
    "\n",
    "def greet(name):\n",
    "    return \"Hello \" + name + \"!\"\n",
    "\n",
    "demo = gr.Interface(fn=greet, inputs=\"text\", outputs=\"text\")\n",
    "\n",
    "demo.launch(share=True, inbrowser=True)"
   ]
  }
 ],
 "metadata": {
  "kernelspec": {
   "display_name": "Python 3",
   "language": "python",
   "name": "python3"
  },
  "language_info": {
   "codemirror_mode": {
    "name": "ipython",
    "version": 3
   },
   "file_extension": ".py",
   "mimetype": "text/x-python",
   "name": "python",
   "nbconvert_exporter": "python",
   "pygments_lexer": "ipython3",
   "version": "3.8.9"
  },
  "orig_nbformat": 4
 },
 "nbformat": 4,
 "nbformat_minor": 2
}
